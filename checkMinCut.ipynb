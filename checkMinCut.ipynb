{
 "cells": [
  {
   "cell_type": "code",
   "execution_count": 2,
   "metadata": {},
   "outputs": [
    {
     "name": "stdout",
     "output_type": "stream",
     "text": [
      "The first list is :  49\n",
      "The second list is :  49\n",
      "The common elements are :  [1, 2, 3, 4, 5, 6, 7, 8, 10, 12, 13, 15, 16, 17, 18, 19, 20, 21, 23, 24, 25, 26, 27, 28, 29, 30, 31, 32, 33, 34, 36, 38, 39, 40, 41, 42, 46, 47, 49, 52, 53, 56, 58, 61, 68, 71, 81, 85, 99]\n",
      "Common length is :  49\n",
      "The difference elements are :  []\n",
      "The lists l1 and l2 are the same\n"
     ]
    }
   ],
   "source": [
    "l1 = [99,21,61,7,85,4,16,17,18,56,19,5,39,15,28,81,3,23,26,13,1,8,30,12,33,6,32,25,38,10,31,2,49,20,24,71,36,53,68,27,58,47,42,52,46,29,34,41,40]\n",
    "l2 = [99,4,85,16,61,7,21,38,17,47,19,3,23,81,28,26,39,5,56,18,24,33,34,53,41,12,13,30,25,1,10,6,8,31,2,58,42,71,27,15,46,29,32,49,20,68,40,52,36]\n",
    "\n",
    "l1.sort() \n",
    "l2.sort() \n",
    "\n",
    "print (\"The first list is : \", len(l1))\n",
    "print (\"The second list is : \", len(l2))\n",
    "\n",
    "# find common elements\n",
    "common = []\n",
    "for i in l1:\n",
    "    if i in l2:\n",
    "        common.append(i)\n",
    "print (\"The common elements are : \", common)\n",
    "\n",
    "print(\"Common length is : \", len(common))\n",
    "\n",
    "#find the difference\n",
    "diff = []\n",
    "for i in l2:\n",
    "    if i not in l1:\n",
    "        diff.append(i)\n",
    "print (\"The difference elements are : \", diff)\n",
    "\n",
    "\n",
    "if l1 == l2: \n",
    "    print (\"The lists l1 and l2 are the same\") "
   ]
  }
 ],
 "metadata": {
  "kernelspec": {
   "display_name": "Python 3",
   "language": "python",
   "name": "python3"
  },
  "language_info": {
   "codemirror_mode": {
    "name": "ipython",
    "version": 3
   },
   "file_extension": ".py",
   "mimetype": "text/x-python",
   "name": "python",
   "nbconvert_exporter": "python",
   "pygments_lexer": "ipython3",
   "version": "3.11.4"
  }
 },
 "nbformat": 4,
 "nbformat_minor": 2
}
